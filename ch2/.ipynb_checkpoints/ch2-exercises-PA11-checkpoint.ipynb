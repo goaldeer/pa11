{
 "cells": [
  {
   "cell_type": "markdown",
   "metadata": {
    "colab_type": "text",
    "id": "ovY5jkD5dpxE"
   },
   "source": [
    "## ch2-exercises-PA11.ipynb"
   ]
  },
  {
   "cell_type": "markdown",
   "metadata": {
    "colab_type": "text",
    "id": "SZw6UnxQWYBe"
   },
   "source": [
    "## Q1.\n",
    "> 홍길동 씨의 과목별 점수는 다음과 같다. 홍길동 씨의 평균 점수를 구해 보자.\n",
    "\n",
    "- 과목\t점수\n",
    "- 국어\t80\n",
    "- 영어\t75\n",
    "- 수학\t55"
   ]
  },
  {
   "cell_type": "code",
   "execution_count": 2,
   "metadata": {
    "colab": {},
    "colab_type": "code",
    "id": "rUNNaqJPdg7B"
   },
   "outputs": [
    {
     "name": "stdout",
     "output_type": "stream",
     "text": [
      "홍길동씨의 3개 과목의 평균은 70점 입니다.\n"
     ]
    }
   ],
   "source": [
    "dic = {'국어':80,'영어':75,'수학':55}\n",
    "\n",
    "scoreAverage = round( (dic['국어'] + dic['영어'] + dic['수학']) / 3)\n",
    "\n",
    "print(\"홍길동씨의 3개 과목의 평균은 {}점 입니다.\".format(scoreAverage) )"
   ]
  },
  {
   "cell_type": "markdown",
   "metadata": {
    "colab_type": "text",
    "id": "re2-XrUYXF1m"
   },
   "source": [
    "## Q2.\n",
    "> 자연수 13이 홀수인지 짝수인지 판별할 수 있는 방법에 대해 말해 보자.\n",
    "\n",
    "1. 판별 기준\n",
    "2. 코드\n"
   ]
  },
  {
   "cell_type": "code",
   "execution_count": 10,
   "metadata": {
    "colab": {},
    "colab_type": "code",
    "id": "5MBLUZ5WXF1q"
   },
   "outputs": [
    {
     "name": "stdout",
     "output_type": "stream",
     "text": [
      "13은 홀수입니다.\n"
     ]
    }
   ],
   "source": [
    "# [Q2] Code\n",
    "# 1. 판별 기준 : if문을 사용하여 13을 2로 나누었을때 나머지가 없이 나누어 지면 짝수, 그외의 조건(2로 나누었을때 나머지가 있으면)은 홀수로 판정\n",
    "\n",
    "number = 13\n",
    "line = \"\"\n",
    "\n",
    "if number % 2 == 0:\n",
    "    line = \"짝수\"\n",
    "else:\n",
    "    line = \"홀수\"\n",
    "\n",
    "print(\"13은 %s입니다.\" % line)\n"
   ]
  },
  {
   "cell_type": "markdown",
   "metadata": {
    "colab_type": "text",
    "id": "UZy8lu_BXGnT"
   },
   "source": [
    "## Q3.\n",
    "> 홍길동 씨의 주민등록번호는 881120-1068234이다. 홍길동 씨의 주민등록번호를 연월일(YYYYMMDD) 부분과 그 뒤의 숫자 부분으로 나누어 출력해 보자.\n",
    "\n",
    "- 문자열 슬라이싱 기법을 사용해 보자."
   ]
  },
  {
   "cell_type": "code",
   "execution_count": 9,
   "metadata": {
    "colab": {},
    "colab_type": "code",
    "id": "H9T_sXHzXGnW"
   },
   "outputs": [
    {
     "name": "stdout",
     "output_type": "stream",
     "text": [
      "홍길동씨의 주민번호 연월일 부분은 19881120 입니다\n",
      "홍길동씨의 주민번호 뒷자리는 1068234 입니다\n"
     ]
    }
   ],
   "source": [
    "# [Q3] Code\n",
    "Social_Security_Number= (\"881120-1068234\")\n",
    "\n",
    "ssn_YEAR = Social_Security_Number[0:2]\n",
    "ssn_MONTH = Social_Security_Number[2:4]\n",
    "ssn_DATE = Social_Security_Number[4:6]\n",
    "ssn_Second =Social_Security_Number[7:]\n",
    "\n",
    "if ssn_Second[0] == \"1\" or ssn_Second[0] == \"2\":\n",
    "    ssn_YEAR = \"19\" + ssn_YEAR;\n",
    "else:\n",
    "    ssn_YEAR = \"20\" + ssn_YEAR;\n",
    "    \n",
    "ssn_First = ssn_YEAR + ssn_MONTH + ssn_DATE\n",
    "\n",
    "print(\"홍길동씨의 주민번호 연월일 부분은 {} 입니다\".format(ssn_First))\n",
    "print(\"홍길동씨의 주민번호 뒷자리는 {} 입니다\".format(ssn_Second))\n"
   ]
  },
  {
   "cell_type": "markdown",
   "metadata": {
    "colab_type": "text",
    "id": "fqypxxqTXHY7"
   },
   "source": [
    "## Q4.\n",
    "> 주민등록번호 뒷자리의 맨 첫 번째 숫자는 성별을 나타낸다. 주민등록번호에서 성별을 나타내는 숫자를 출력해 보자.\n",
    "\n",
    "- pin = \"881120-1068234\"\n",
    "- ※ 문자열 인덱싱 또는 내장함수를 사용해 보자.\n",
    "- 문자열포맷팅을 이용해서 성별을 출력하시오."
   ]
  },
  {
   "cell_type": "code",
   "execution_count": 11,
   "metadata": {
    "colab": {},
    "colab_type": "code",
    "id": "oQ5UnmayXHY-"
   },
   "outputs": [
    {
     "name": "stdout",
     "output_type": "stream",
     "text": [
      "남성입니다.\n"
     ]
    }
   ],
   "source": [
    "# [Q4] Code\n",
    "pin = \"881120-1068234\"\n",
    "\n",
    "genderCode = pin[7:8]\n",
    "gender = \"\"\n",
    "\n",
    "if gender == \"2\":\n",
    "    gender = \"여성\"\n",
    "else:\n",
    "    gender = \"남성\"\n",
    "\n",
    "print(\"%s입니다.\" % gender)"
   ]
  },
  {
   "cell_type": "markdown",
   "metadata": {
    "colab_type": "text",
    "id": "NKsvciXZXIL-"
   },
   "source": [
    "## Q5.\n",
    "> 다음과 같은 문자열 a:b:c:d가 있다. 문자열의 replace 함수를 사용하여 a#b#c#d로 바꿔서 출력해 보자.\n",
    "\n",
    "- a = \"a:b:c:d\""
   ]
  },
  {
   "cell_type": "code",
   "execution_count": 27,
   "metadata": {
    "colab": {},
    "colab_type": "code",
    "id": "5MZQYOVjXIL_"
   },
   "outputs": [
    {
     "data": {
      "text/plain": [
       "'a#b#c#d'"
      ]
     },
     "execution_count": 27,
     "metadata": {},
     "output_type": "execute_result"
    }
   ],
   "source": [
    "# [Q5] Code\n",
    "\n",
    "a = \"a:b:c:d\"\n",
    "a.replace(\":\",\"#\")\n"
   ]
  },
  {
   "cell_type": "markdown",
   "metadata": {
    "colab_type": "text",
    "id": "-3KHtOOoXJBV"
   },
   "source": [
    "## Q6.\n",
    "> \\[1, 3, 5, 4, 2\\] 리스트를 \\[5, 4, 3, 2, 1\\]로 만들어 보자.\n",
    "\n",
    "- ※ 리스트의 내장 함수를 사용해 보자."
   ]
  },
  {
   "cell_type": "code",
   "execution_count": 20,
   "metadata": {
    "colab": {},
    "colab_type": "code",
    "id": "AjYR0lUaXJBa"
   },
   "outputs": [
    {
     "name": "stdout",
     "output_type": "stream",
     "text": [
      "[5, 4, 3, 2, 1]\n"
     ]
    }
   ],
   "source": [
    "# [Q6] Code\n",
    "a = [1, 3 ,5, 4, 2]\n",
    "\n",
    "a.sort()\n",
    "\n",
    "a.reverse()\n",
    "\n",
    "print(a)"
   ]
  },
  {
   "cell_type": "markdown",
   "metadata": {
    "colab_type": "text",
    "id": "t4IiVHLeZZiY"
   },
   "source": [
    "## Q7.\n",
    "> \\['Life', 'is', 'too', 'short'\\] 리스트를 Life is too short 문자열로 만들어 출력해 보자.\n",
    "\n",
    "- ※ 문자열의 join 함수를 사용하면 리스트를 문자열로 쉽게 만들 수 있다."
   ]
  },
  {
   "cell_type": "code",
   "execution_count": 12,
   "metadata": {
    "colab": {},
    "colab_type": "code",
    "id": "9N_atipGZZii"
   },
   "outputs": [
    {
     "name": "stdout",
     "output_type": "stream",
     "text": [
      "Life is too short\n"
     ]
    }
   ],
   "source": [
    "# [Q7] Code\n",
    "\n",
    "a = ['Life', 'is', 'too', 'short']\n",
    "\n",
    "str = \" \".join(a)\n",
    "print(str)"
   ]
  },
  {
   "cell_type": "markdown",
   "metadata": {
    "colab_type": "text",
    "id": "-lBhb33mZaak"
   },
   "source": [
    "## Q8.\n",
    "> (1,2,3) 튜플에 값 4를 추가하여 (1,2,3,4)를 만들어 출력해 보자.\n",
    "\n",
    "- ※ 더하기(+) 또는 다른 방법들을 사용해 보자."
   ]
  },
  {
   "cell_type": "code",
   "execution_count": 17,
   "metadata": {
    "colab": {},
    "colab_type": "code",
    "id": "i4BTj9htZaao"
   },
   "outputs": [
    {
     "name": "stdout",
     "output_type": "stream",
     "text": [
      "(1, 2, 3, 4)\n",
      "(1, 2, 3, 4)\n"
     ]
    }
   ],
   "source": [
    "# [Q8] Code\n",
    "\n",
    "#튜플 더하기\n",
    "t1 = (1, 2, 3)\n",
    "t2 = (4,)\n",
    "t1 = t1 + t2\n",
    "print(t1)\n",
    "\n",
    "#리스트로 변환 후 .insert 함수로 4를 추가한 다음 다시 튜플로 변환 하는 방법\n",
    "t1 = (1, 2, 3)\n",
    "t11 = list(t1)\n",
    "t11.insert(3,4) # 3에 4를 추가\n",
    "\n",
    "t1 = tuple(t11)\n",
    "print(t1)\n"
   ]
  },
  {
   "cell_type": "markdown",
   "metadata": {
    "colab_type": "text",
    "id": "RbzxnM_2ZbD7"
   },
   "source": [
    "## Q9.\n",
    "> 다음과 같은 딕셔너리 a가 있다.\n",
    "\n",
    ">> a = dict()  \n",
    ">> a  \n",
    "{}\n",
    "\n",
    "- 다음 중 오류가 발생하는 경우를 고르고, 그 이유를 설명해 보자.\n",
    "\n",
    "1. a\\['name'\\] = 'python'\n",
    "2. a\\[('a',)\\] = 'python'\n",
    "3. a\\[\\[1\\]\\] = 'python'\n",
    "4. a\\[250\\] = 'python'"
   ]
  },
  {
   "cell_type": "code",
   "execution_count": 24,
   "metadata": {
    "colab": {},
    "colab_type": "code",
    "id": "f-5U0rBgZbEB"
   },
   "outputs": [
    {
     "ename": "TypeError",
     "evalue": "unhashable type: 'list'",
     "output_type": "error",
     "traceback": [
      "\u001b[0;31m---------------------------------------------------------------------------\u001b[0m",
      "\u001b[0;31mTypeError\u001b[0m                                 Traceback (most recent call last)",
      "\u001b[0;32m<ipython-input-24-019543803227>\u001b[0m in \u001b[0;36m<module>\u001b[0;34m\u001b[0m\n\u001b[1;32m      5\u001b[0m \u001b[0ma\u001b[0m\u001b[0;34m[\u001b[0m\u001b[0;34m'name'\u001b[0m\u001b[0;34m]\u001b[0m \u001b[0;34m=\u001b[0m \u001b[0;34m'python'\u001b[0m\u001b[0;34m\u001b[0m\u001b[0;34m\u001b[0m\u001b[0m\n\u001b[1;32m      6\u001b[0m \u001b[0ma\u001b[0m\u001b[0;34m[\u001b[0m\u001b[0;34m(\u001b[0m\u001b[0;34m'a'\u001b[0m\u001b[0;34m,\u001b[0m\u001b[0;34m)\u001b[0m\u001b[0;34m]\u001b[0m \u001b[0;34m=\u001b[0m \u001b[0;34m'python'\u001b[0m\u001b[0;34m\u001b[0m\u001b[0;34m\u001b[0m\u001b[0m\n\u001b[0;32m----> 7\u001b[0;31m \u001b[0ma\u001b[0m\u001b[0;34m[\u001b[0m\u001b[0;34m[\u001b[0m\u001b[0;36m1\u001b[0m\u001b[0;34m]\u001b[0m\u001b[0;34m]\u001b[0m \u001b[0;34m=\u001b[0m \u001b[0;34m'python'\u001b[0m\u001b[0;34m\u001b[0m\u001b[0;34m\u001b[0m\u001b[0m\n\u001b[0m\u001b[1;32m      8\u001b[0m \u001b[0ma\u001b[0m\u001b[0;34m[\u001b[0m\u001b[0;36m250\u001b[0m\u001b[0;34m]\u001b[0m \u001b[0;34m=\u001b[0m \u001b[0;34m'python'\u001b[0m\u001b[0;34m\u001b[0m\u001b[0;34m\u001b[0m\u001b[0m\n\u001b[1;32m      9\u001b[0m \u001b[0;34m\u001b[0m\u001b[0m\n",
      "\u001b[0;31mTypeError\u001b[0m: unhashable type: 'list'"
     ]
    }
   ],
   "source": [
    "# [Q9] Code & explanation\n",
    "\n",
    "a = dict()\n",
    "\n",
    "a['name'] = 'python'\n",
    "a[('a',)] = 'python'\n",
    "a[[1]] = 'python'\n",
    "a[250] = 'python'\n",
    "\n",
    "print(\"답 : 3번\")\n",
    "print(\"딕셔너리의 key값은 immutable한 값을 사용하여야 하는데, 3번에 사용된 a[[1]]의 key 값은 변하는 값(삽입, 제거) 이므로 사용할 수 없다.\")\n"
   ]
  },
  {
   "cell_type": "markdown",
   "metadata": {
    "colab_type": "text",
    "id": "9qiSBPM8Zbpj"
   },
   "source": [
    "## Q10.\n",
    "> 딕셔너리 a에서 'B'에 해당되는 값을 추출해 보자.\n",
    ">> a = {'A':90, 'B':80, 'C':70}\n",
    "\n",
    "- ※ 딕셔너리의 pop 함수를 사용해 보자."
   ]
  },
  {
   "cell_type": "code",
   "execution_count": 28,
   "metadata": {
    "colab": {},
    "colab_type": "code",
    "id": "Y9swWMWHZbpm"
   },
   "outputs": [
    {
     "name": "stdout",
     "output_type": "stream",
     "text": [
      "80\n"
     ]
    },
    {
     "data": {
      "text/plain": [
       "{'A': 90, 'C': 70}"
      ]
     },
     "execution_count": 28,
     "metadata": {},
     "output_type": "execute_result"
    }
   ],
   "source": [
    "# [Q10] Code\n",
    "\n",
    "a = {'A':90, 'B':80, 'C':70}\n",
    "b = a.pop('B')\n",
    "print(b)\n"
   ]
  },
  {
   "cell_type": "markdown",
   "metadata": {
    "colab_type": "text",
    "id": "88KNoXFNZcR7"
   },
   "source": [
    "## Q11.\n",
    "> a 리스트에서 중복 숫자를 제거해 보자.\n",
    ">> a = \\[1, 1, 1, 2, 2, 3, 3, 3, 4, 4, 5\\]\n",
    "\n",
    "- ※ 집합 자료형의 요솟값이 중복될 수 없다는 특징을 사용해 보자."
   ]
  },
  {
   "cell_type": "code",
   "execution_count": 39,
   "metadata": {
    "colab": {},
    "colab_type": "code",
    "id": "paSvArIWZcSB"
   },
   "outputs": [
    {
     "name": "stdout",
     "output_type": "stream",
     "text": [
      "[1, 2, 3, 4, 5]\n"
     ]
    }
   ],
   "source": [
    "# [Q11] Code\n",
    "\n",
    "a = [1, 1, 1, 2, 2, 3, 3, 3, 4, 4, 5]\n",
    "\n",
    "a1 = set(a)\n",
    "\n",
    "a = list(a1)\n",
    "\n",
    "print(a)"
   ]
  },
  {
   "cell_type": "markdown",
   "metadata": {
    "colab_type": "text",
    "id": "EzVVHI-AZc3T"
   },
   "source": [
    "## Q12.\n",
    "> 파이썬은 다음처럼 동일한 값에 여러 개의 변수를 선언할 수 있다. 다음과 같이 a, b 변수를 선언한 후 a의 두 번째 요솟값을 변경하면 b 값은 어떻게 될까? 그리고 이런 결과가 오는 이유에 대해 설명해 보자.\n",
    "\n",
    ">> a = b = \\[1, 2, 3\\]  \n",
    ">> a\\[1\\] = 4  \n",
    ">> print(b)  \n"
   ]
  },
  {
   "cell_type": "code",
   "execution_count": 82,
   "metadata": {
    "colab": {},
    "colab_type": "code",
    "id": "RvRIUGqAZc3W"
   },
   "outputs": [
    {
     "name": "stdout",
     "output_type": "stream",
     "text": [
      "a의 주소는 2486957060480 입니다.\n",
      "b의 주소는 2486957060480 입니다.\n",
      "[1, 4, 3]\n",
      "[1, 4, 3]\n",
      "_______________________________________________\n",
      "a의 주소는 2486957062400 입니다.\n",
      "b의 주소는 2486939513792 입니다.\n",
      "[1, 4, 3]\n",
      "[1, 2, 3]\n"
     ]
    }
   ],
   "source": [
    "# [Q12] Code & explanation\n",
    "\n",
    "a = b = [1, 2, 3]\n",
    "\n",
    "a[1] = 4\n",
    "\n",
    "print(\"a의 주소는 {} 입니다.\".format(id(a)))\n",
    "print(\"b의 주소는 {} 입니다.\".format(id(b)))\n",
    "print(a)\n",
    "print(b)\n",
    "#먼저, 변수 이름과 값은 컴퓨터 메모리의 최적화를 위해 다른 곳에 저장된다. 다만, 위와 같은 방식으로 값을 선언하게 된다면, a 와 b 가 같은 메모리 주소를 참조한다.\n",
    "#즉, a와 b는 참조형 변수로써, 같은 값-메모리 주소를 공유한다(같은 곳에서 값을 불러온다), 그래서 a 값을 수정하게 된다면, 같은 메모리 주소를 공유하는 b 값도 수정된다.\n"
   ]
  },
  {
   "cell_type": "markdown",
   "metadata": {
    "colab_type": "text",
    "id": "2ljBDShkbqZO"
   },
   "source": [
    "## 코딩 연습 결과를 github에 올리기\n",
    "> 완성된 ipython 노트북 파일을 각자의 github에 올리시오.\n",
    "\n",
    "- github 계정 만들기 (계정이 없는 학생)\n",
    "    1. github에 sign up (Google gmail 계정을 이용해서 만드시오.)\n",
    "- github에 노트 올리기\n",
    "    2. github에 각자의 id로 repo를 만드시오. (한번 만들면 계속 재사용)\n",
    "    3. **github repo의 ch2 폴더에 연습문제 풀이 노트를 올리시오.**\n",
    "        - 제출노트: ch2-exercises-id.ipynb\n"
   ]
  },
  {
   "cell_type": "code",
   "execution_count": 0,
   "metadata": {
    "colab": {},
    "colab_type": "code",
    "id": "OnCR-YNCc8B6"
   },
   "outputs": [],
   "source": []
  }
 ],
 "metadata": {
  "colab": {
   "collapsed_sections": [],
   "include_colab_link": true,
   "name": "ch2_exercises.ipynb",
   "provenance": []
  },
  "kernelspec": {
   "display_name": "Python 3",
   "language": "python",
   "name": "python3"
  },
  "language_info": {
   "codemirror_mode": {
    "name": "ipython",
    "version": 3
   },
   "file_extension": ".py",
   "mimetype": "text/x-python",
   "name": "python",
   "nbconvert_exporter": "python",
   "pygments_lexer": "ipython3",
   "version": "3.7.4"
  },
  "metadata": {
   "interpreter": {
    "hash": "7a695d8e24dc7cc701bc8852c5ba6314ed8789bc16da2b093cce5b569a3e12da"
   }
  }
 },
 "nbformat": 4,
 "nbformat_minor": 1
}
