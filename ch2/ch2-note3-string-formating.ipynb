{
 "cells": [
  {
   "cell_type": "markdown",
   "metadata": {},
   "source": [
    "## ch2-note3-string_formating.ipynb by pa11"
   ]
  },
  {
   "cell_type": "markdown",
   "metadata": {},
   "source": [
    "## 문자열: 포매팅이란?"
   ]
  },
  {
   "cell_type": "code",
   "execution_count": 7,
   "metadata": {},
   "outputs": [
    {
     "name": "stdout",
     "output_type": "stream",
     "text": [
      "I eat 3 apples.\n",
      "I eat five apples.\n",
      "I eat 3 apples.\n",
      "I ate 10 apples. so I was sick for three days.\n"
     ]
    }
   ],
   "source": [
    "# 1. 숫자 바로 대입\n",
    "print(\"I eat %d apples.\" % 3) # %d 는 숫자형 포매터, python 에는 int, float 구분이 없다.\n",
    "\n",
    "\n",
    "# 2. 문자열 바로 대입\n",
    "print(\"I eat %s apples.\" % \"five\") # %s 는 문자 포매터, string 형식\n",
    "\n",
    "\n",
    "# 3. 숫자 값을 나타내는 변수로 대입\n",
    "number = 3\n",
    "print(\"I eat %d apples.\" % number)\n",
    "\n",
    "\n",
    "# 4. 2개 이상의 값 넣기\n",
    "number = 10\n",
    "day = \"three\" # (I ate %d apples. so I was sick for %s days.\" % number  # , day) 는 변수의 순서가 정해져 있지 않아 에러를 출력함.\n",
    "\n",
    "print(\"I ate %d apples. so I was sick for %s days.\" % (number, day)) # 소괄호 안에 콤마(,)로 구분하여 각각의 값을 넣어 준다. (튜플로 묶음)"
   ]
  },
  {
   "cell_type": "markdown",
   "metadata": {},
   "source": [
    "## 문자열: 포맷 코드"
   ]
  },
  {
   "cell_type": "code",
   "execution_count": 3,
   "metadata": {},
   "outputs": [
    {
     "name": "stdout",
     "output_type": "stream",
     "text": [
      "I have 3 apples\n",
      "rate is 3.234\n",
      "Error is 98%.\n"
     ]
    }
   ],
   "source": [
    "# %d (숫자형), %s (문자열), %c (문자 하나), %f (실수), %o (8진수), %x(16진수), %% (%기호)\n",
    "# %s, 묵시적 형변환 != 암시적 형변환\n",
    "print(\"I have %s apples\" % 3)\n",
    "print(\"rate is %s\" % 3.234) #암시하지 않아도 알아서 변환 해줌. python 에선 형변환이 자유로움.\n",
    "\n",
    "\n",
    "# \"Error is %d%.\" % 98 오류\n",
    "print(\"Error is %d%%.\" % 98) # %의 경우 %를 명령으로 사용하기 때문에 사용할 수 없게됨. 해결책? \\\\와 같이 %% 해주면 됨."
   ]
  },
  {
   "cell_type": "markdown",
   "metadata": {},
   "source": [
    "## 문자열: 포맷 코드와 숫자 함께 사용하기"
   ]
  },
  {
   "cell_type": "code",
   "execution_count": 9,
   "metadata": {},
   "outputs": [
    {
     "name": "stdout",
     "output_type": "stream",
     "text": [
      "        hi\n",
      "hi        jane.\n",
      "3.4213\n",
      "    3.4213\n"
     ]
    }
   ],
   "source": [
    "# 1. 정렬과 공백\n",
    "print(\"%10s\" % \"hi\") # 시작 위치로부터 10칸 이동 후 출력\n",
    "print(\"%-10sjane.\" % \"hi\") # 시작 위치로부터 -10칸 이동 후 출력, jane은 뒤따라 출력\n",
    "\n",
    "\n",
    "# 2. 소수점 표현하기\n",
    "print(\"%0.4f\" % 3.42134234)\n",
    "print(\"%10.4f\" % 3.42134234) # 10칸 공백 후 뒤에서 부터 공백을 채우며 삽입됨."
   ]
  },
  {
   "cell_type": "markdown",
   "metadata": {},
   "source": [
    "## 문자열: format 함수를 사용한 포매팅"
   ]
  },
  {
   "cell_type": "code",
   "execution_count": 5,
   "metadata": {},
   "outputs": [
    {
     "name": "stdout",
     "output_type": "stream",
     "text": [
      "I eat 3 apples.\n",
      "I eat 4 apples.\n",
      "I eat five apples.\n",
      "I eat five apples from three boxes.\n",
      "I eat 3 apples\n",
      "I eat 4 apples\n"
     ]
    }
   ],
   "source": [
    "# 1. 숫자 바로 대입하기\n",
    "print(\"I eat {0} apples.\".format(3))\n",
    "print(\"I eat {1} apples.\".format(3,4))\n",
    "\n",
    "\n",
    "# 2. 문자열 바로 대입하기\n",
    "print(\"I eat {0} apples.\". format(\"five\"))\n",
    "print(\"I eat {0} apples from {1} boxes.\" . format(\"five\", \"three\"))\n",
    "\n",
    "\n",
    "# 3. 숫자 값을 가진 변수로 대입하기\n",
    "number = 3\n",
    "print(\"I eat {0} apples\". format(number))\n",
    "print(\"I eat {0} apples\". format(number + 1))"
   ]
  },
  {
   "cell_type": "markdown",
   "metadata": {},
   "source": [
    "## 2개 이상의 값 넣기"
   ]
  },
  {
   "cell_type": "code",
   "execution_count": 7,
   "metadata": {},
   "outputs": [
    {
     "name": "stdout",
     "output_type": "stream",
     "text": [
      "I ate 10 apples. so I was sick for three days.\n"
     ]
    }
   ],
   "source": [
    "number = 10\n",
    "day = \"three\"\n",
    "print(\"I ate {0} apples. so I was sick for {1} days.\".format(number, day))"
   ]
  },
  {
   "cell_type": "markdown",
   "metadata": {},
   "source": [
    "## 이름으로 넣기"
   ]
  },
  {
   "cell_type": "code",
   "execution_count": 9,
   "metadata": {},
   "outputs": [
    {
     "data": {
      "text/plain": [
       "'I ate 10 apples. so I was sick for 3 days.'"
      ]
     },
     "execution_count": 9,
     "metadata": {},
     "output_type": "execute_result"
    }
   ],
   "source": [
    "\"I ate {number} apples. so I was sick for {day} days.\".format(number=10, day=3)"
   ]
  },
  {
   "cell_type": "markdown",
   "metadata": {},
   "source": [
    "## 인덱스와 이름을 혼용해서 넣기"
   ]
  },
  {
   "cell_type": "code",
   "execution_count": 10,
   "metadata": {},
   "outputs": [
    {
     "data": {
      "text/plain": [
       "'I ate 10 apples. so I was sick for 3 days.'"
      ]
     },
     "execution_count": 10,
     "metadata": {},
     "output_type": "execute_result"
    }
   ],
   "source": [
    "\"I ate {0} apples. so I was sick for {day} days.\".format(10, day = 3)"
   ]
  },
  {
   "cell_type": "markdown",
   "metadata": {},
   "source": [
    "## 정렬"
   ]
  },
  {
   "cell_type": "code",
   "execution_count": 11,
   "metadata": {},
   "outputs": [
    {
     "name": "stdout",
     "output_type": "stream",
     "text": [
      "hi        \n",
      "        hi\n",
      "    hi    \n",
      "====hi====\n",
      "hi!!!!!!!!\n"
     ]
    }
   ],
   "source": [
    "# 왼쪽 정렬/ 오른쪽 정렬\n",
    "print(\"{0:<10}\".format(\"hi\")) # 10칸의 빈칸을 만들고, 왼쪽에 hi를 삽입해줌, 10 - 2 = 8 칸의 빈칸이 남게됨.\n",
    "print(\"{0:>10}\".format(\"hi\")) # 10칸의 빈칸을 만들고 오른쪽에 hi를 삽입해줌, 10 - 2 = 8 칸의 빈칸이 남게됨.\n",
    "\n",
    "\n",
    "# 가운데 정렬\n",
    "print(\"{0:^10}\".format(\"hi\"))\n",
    "\n",
    "\n",
    "# 공백 채우기\n",
    "print(\"{0:=^10}\".format(\"hi\"))\n",
    "print(\"{0:!<10}\".format(\"hi\"))\n",
    "\n",
    "\n",
    "# 도전하기\n",
    "# \"{0:<10}{1:>10}\".format(\"hi\", 'hcit')\n",
    "# \"hi              hoit\""
   ]
  },
  {
   "cell_type": "markdown",
   "metadata": {},
   "source": [
    "## 소수점 표현하기"
   ]
  },
  {
   "cell_type": "code",
   "execution_count": 12,
   "metadata": {},
   "outputs": [
    {
     "name": "stdout",
     "output_type": "stream",
     "text": [
      "3.4213\n",
      "    3.4213\n",
      "{ and }\n"
     ]
    }
   ],
   "source": [
    "y = 3.42134234\n",
    "print(\"{0:0.4f}\".format(y)) # 소수점 4자리 까지.\n",
    "print(\"{0:10.4f}\".format(y)) # 110칸 공백 후 뒤에서 부터 출력.\n",
    "\n",
    "\n",
    "# { 또는 } 문자 표현하기\n",
    "print(\"{{ and }}\".format()) # \\ 표시하기 위해 \\\\ 하는 것과 비슷한 듯."
   ]
  },
  {
   "cell_type": "markdown",
   "metadata": {},
   "source": [
    "## 문자열: f 문자열 포매팅"
   ]
  },
  {
   "cell_type": "code",
   "execution_count": 13,
   "metadata": {},
   "outputs": [
    {
     "name": "stdout",
     "output_type": "stream",
     "text": [
      "나는 내년이면 31살이 된다.\n",
      "나의 이름은 홍길동입니다. 나이는 30입니다.\n",
      "hi        \n",
      "        hi\n",
      "    hi    \n",
      "{and}\n"
     ]
    }
   ],
   "source": [
    "name = \"홍길동\"\n",
    "age = 30 \n",
    "print(f\"나는 내년이면 {age +1}살이 된다.\")\n",
    "\n",
    "d = {\"name\": \"홍길동\", \"age\": 30} # 열거형\n",
    "print(f'나의 이름은 {d[\"name\"]}입니다. 나이는 {d[\"age\"]}입니다.') \n",
    "\n",
    "\n",
    "# 정렬\n",
    "print(f'{\"hi\":<10}')\n",
    "print(f'{\"hi\":>10}')\n",
    "print(f'{\"hi\":^10}')\n",
    "print(f\"{{and}}\")"
   ]
  },
  {
   "cell_type": "markdown",
   "metadata": {},
   "source": [
    "## 문자열: 관련 내장 함수들"
   ]
  },
  {
   "cell_type": "code",
   "execution_count": 6,
   "metadata": {},
   "outputs": [
    {
     "name": "stdout",
     "output_type": "stream",
     "text": [
      "2\n",
      "14\n",
      "-1\n",
      "8\n",
      "2\n"
     ]
    }
   ],
   "source": [
    "# 문자 개수 세기(count)\n",
    "a = \"hobby\"\n",
    "print(a.count(\"b\"))\n",
    "\n",
    "\n",
    "# 위치 알려주기1(find)\n",
    "a = \"Python is the best choice\"\n",
    "print(a.find(\"b\"))\n",
    "print(a.find(\"k\")) # k는 없다, -1 값이 출력됨.\n",
    "\n",
    "\n",
    "# 위치 알려주기2(index)\n",
    "a = \"Like is too short\"\n",
    "print(a.index(\"t\")) # 0부터 시작함.\n",
    "print(a.index(\"k\")) "
   ]
  },
  {
   "cell_type": "markdown",
   "metadata": {},
   "source": [
    "## 문자열 삽입(join)"
   ]
  },
  {
   "cell_type": "code",
   "execution_count": 2,
   "metadata": {},
   "outputs": [
    {
     "name": "stdout",
     "output_type": "stream",
     "text": [
      "a,b,c,d\n",
      "a,b,c,d\n",
      "HI\n",
      "iot\n",
      "hi \n",
      " hi\n",
      "hi\n",
      "Your leg is too short\n",
      "['Life', 'is', 'too', 'short']\n",
      "['a', 'b', 'c', 'd']\n"
     ]
    }
   ],
   "source": [
    "# 문자열 삽입\n",
    "print(\",\".join(\"abcd\")) # 한가지 변수 입력\n",
    "print(\",\".join([\"a\",\"b\",\"c\",\"d\"])) # 여러 변수 입력\n",
    "\n",
    "\n",
    "# 소문자를 대문자로 바꾸기(upper)\n",
    "a = \"hi\"\n",
    "print(a.upper())\n",
    "\n",
    "\n",
    "# 대문자를 소문자로 바꾸기(lower)\n",
    "a = \"IoT\"\n",
    "print(a.lower())\n",
    "\n",
    "\n",
    "# 왼쪽 공백 지우기(lstrip))\n",
    "a = \" hi \"\n",
    "print(a.lstrip())\n",
    "\n",
    "\n",
    "# 오른쪽 공백 지우기(rstrip))\n",
    "print(a.rstrip())\n",
    "\n",
    "\n",
    "# 양쪽 공백 지우기(strip))\n",
    "print(a.strip())\n",
    "\n",
    "\n",
    "# 문자열 바꾸기(replace)\n",
    "a = \"Life is too short\"\n",
    "print(a.replace(\"Life\", \"Your leg\"))\n",
    "\n",
    "\n",
    "# 문자열 나누기(split) => 리스트로 변환하여 반환\n",
    "a = \"Life is too short\"\n",
    "print(a.split())\n",
    "\n",
    "b = \"a:b:c:d\"\n",
    "print(b.split(\":\")) # () 내부의 값을 전달받아 변환, 파싱과 유사한 작동원리"
   ]
  },
  {
   "cell_type": "markdown",
   "metadata": {},
   "source": [
    "##  개인적인 공부를 위해 수업 후에 주석을 첨가하였습니다. 감사합니다."
   ]
  }
 ],
 "metadata": {
  "kernelspec": {
   "display_name": "Python 3",
   "language": "python",
   "name": "python3"
  },
  "language_info": {
   "codemirror_mode": {
    "name": "ipython",
    "version": 3
   },
   "file_extension": ".py",
   "mimetype": "text/x-python",
   "name": "python",
   "nbconvert_exporter": "python",
   "pygments_lexer": "ipython3",
   "version": "3.7.4"
  }
 },
 "nbformat": 4,
 "nbformat_minor": 2
}
