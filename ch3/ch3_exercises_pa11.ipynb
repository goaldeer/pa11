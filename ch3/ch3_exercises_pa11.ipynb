{
  "nbformat": 4,
  "nbformat_minor": 0,
  "metadata": {
    "colab": {
      "name": "ch3_exercises_pa11.ipynb",
      "provenance": [],
      "collapsed_sections": [],
      "include_colab_link": true
    },
    "kernelspec": {
      "name": "python3",
      "display_name": "Python 3"
    }
  },
  "cells": [
    {
      "cell_type": "markdown",
      "metadata": {
        "id": "view-in-github",
        "colab_type": "text"
      },
      "source": [
        "<a href=\"https://colab.research.google.com/github/goaldeer/pa11/blob/main/ch3/ch3_exercises_pa11.ipynb\" target=\"_parent\"><img src=\"https://colab.research.google.com/assets/colab-badge.svg\" alt=\"Open In Colab\"/></a>"
      ]
    },
    {
      "cell_type": "markdown",
      "metadata": {
        "id": "ovY5jkD5dpxE"
      },
      "source": [
        "## ch3-exercises_PA11.ipynb"
      ]
    },
    {
      "cell_type": "markdown",
      "metadata": {
        "id": "SZw6UnxQWYBe"
      },
      "source": [
        "## Q1.\n",
        "> 다음 코드의 결괏값은 무엇일까?\n",
        "\n",
        "```\n",
        "a = \"Life is too short, you need python\"\n",
        "if \"wife\" in a: print(\"wife\")\n",
        "elif \"python\" in a and \"you\" not in a: print(\"python\")\n",
        "elif \"shirt\" not in a: print(\"shirt\")\n",
        "elif \"need\" in a: print(\"need\")\n",
        "else: print(\"none\")\n",
        "\n",
        "```"
      ]
    },
    {
      "cell_type": "code",
      "metadata": {
        "id": "rUNNaqJPdg7B"
      },
      "source": [
        "# [Q1] Code  \n",
        "shirt"
      ],
      "execution_count": null,
      "outputs": []
    },
    {
      "cell_type": "markdown",
      "metadata": {
        "id": "re2-XrUYXF1m"
      },
      "source": [
        "## Q2.\n",
        "> while문을 사용해 1부터 1000까지의 자연수 중 3의 배수의 합을 구해 보자.\n"
      ]
    },
    {
      "cell_type": "code",
      "metadata": {
        "id": "5MBLUZ5WXF1q",
        "colab": {
          "base_uri": "https://localhost:8080/"
        },
        "outputId": "394d036c-801c-4ccb-d849-ab8419cf79db"
      },
      "source": [
        "# [Q2] Code\n",
        "\n",
        "\n",
        "result = 0\n",
        "Num = 3\n",
        "counter = 1\n",
        "\n",
        "while counter <= 1000:\n",
        "  if counter % Num == 0:\n",
        "    result = result + counter\n",
        "  counter += 1\n",
        "\n",
        "print(result)"
      ],
      "execution_count": null,
      "outputs": [
        {
          "output_type": "stream",
          "text": [
            "166833\n"
          ],
          "name": "stdout"
        }
      ]
    },
    {
      "cell_type": "markdown",
      "metadata": {
        "id": "UZy8lu_BXGnT"
      },
      "source": [
        "## Q3.\n",
        "> while문을 사용하여 다음과 같이 별(*)을 표시하는 프로그램을 작성해 보자.\n",
        "\n",
        "```\n",
        "*\n",
        "**\n",
        "***\n",
        "****\n",
        "*****\n",
        "\n",
        "```\n"
      ]
    },
    {
      "cell_type": "code",
      "metadata": {
        "id": "H9T_sXHzXGnW",
        "colab": {
          "base_uri": "https://localhost:8080/"
        },
        "outputId": "ef37c14d-0ba3-44a3-afb6-030203e16578"
      },
      "source": [
        "# [Q3] Code\n",
        "\n",
        "starLine = 5\n",
        "counter = 1\n",
        "star = \"*\"\n",
        "\n",
        "while starLine >= counter:\n",
        "  print(star)\n",
        "  star = star + \"*\"\n",
        "  counter += 1"
      ],
      "execution_count": null,
      "outputs": [
        {
          "output_type": "stream",
          "text": [
            "*\n",
            "**\n",
            "***\n",
            "****\n",
            "*****\n"
          ],
          "name": "stdout"
        }
      ]
    },
    {
      "cell_type": "markdown",
      "metadata": {
        "id": "fqypxxqTXHY7"
      },
      "source": [
        "## Q4.\n",
        "> for문을 사용해 1부터 100까지의 숫자를 출력해 보자.\n",
        "- 단순 for문 사용\n",
        "- 리스트 내포 사용"
      ]
    },
    {
      "cell_type": "code",
      "metadata": {
        "id": "oQ5UnmayXHY-",
        "colab": {
          "base_uri": "https://localhost:8080/"
        },
        "outputId": "082ef700-66ff-4298-c342-a06418c777fb"
      },
      "source": [
        "# [Q4] Code\n",
        "\n",
        "Num =[1] \n",
        "result = [Num + 1 for Num in range(100)]\n",
        "\n",
        "for i in result:\n",
        "  print(i);"
      ],
      "execution_count": 2,
      "outputs": [
        {
          "output_type": "stream",
          "text": [
            "1\n",
            "2\n",
            "3\n",
            "4\n",
            "5\n",
            "6\n",
            "7\n",
            "8\n",
            "9\n",
            "10\n",
            "11\n",
            "12\n",
            "13\n",
            "14\n",
            "15\n",
            "16\n",
            "17\n",
            "18\n",
            "19\n",
            "20\n",
            "21\n",
            "22\n",
            "23\n",
            "24\n",
            "25\n",
            "26\n",
            "27\n",
            "28\n",
            "29\n",
            "30\n",
            "31\n",
            "32\n",
            "33\n",
            "34\n",
            "35\n",
            "36\n",
            "37\n",
            "38\n",
            "39\n",
            "40\n",
            "41\n",
            "42\n",
            "43\n",
            "44\n",
            "45\n",
            "46\n",
            "47\n",
            "48\n",
            "49\n",
            "50\n",
            "51\n",
            "52\n",
            "53\n",
            "54\n",
            "55\n",
            "56\n",
            "57\n",
            "58\n",
            "59\n",
            "60\n",
            "61\n",
            "62\n",
            "63\n",
            "64\n",
            "65\n",
            "66\n",
            "67\n",
            "68\n",
            "69\n",
            "70\n",
            "71\n",
            "72\n",
            "73\n",
            "74\n",
            "75\n",
            "76\n",
            "77\n",
            "78\n",
            "79\n",
            "80\n",
            "81\n",
            "82\n",
            "83\n",
            "84\n",
            "85\n",
            "86\n",
            "87\n",
            "88\n",
            "89\n",
            "90\n",
            "91\n",
            "92\n",
            "93\n",
            "94\n",
            "95\n",
            "96\n",
            "97\n",
            "98\n",
            "99\n",
            "100\n"
          ],
          "name": "stdout"
        }
      ]
    },
    {
      "cell_type": "markdown",
      "metadata": {
        "id": "NKsvciXZXIL-"
      },
      "source": [
        "## Q5.\n",
        "> A 학급에 총 10명의 학생이 있다. 이 학생들의 중간고사 점수는 다음과 같다.\n",
        "\n",
        "- [70, 60, 55, 75, 95, 90, 80, 80, 85, 100]\n",
        "\n",
        "- for문을 사용하여 A 학급의 평균 점수를 구해 보자."
      ]
    },
    {
      "cell_type": "code",
      "metadata": {
        "id": "5MZQYOVjXIL_",
        "colab": {
          "base_uri": "https://localhost:8080/"
        },
        "outputId": "259625fc-c426-4a1d-dc7a-e760b051261b"
      },
      "source": [
        "# [Q5] Code\n",
        "\n",
        "test_result = [70, 60, 55, 75, 95, 90, 80, 80, 85, 100]\n",
        "sum = 0\n",
        "\n",
        "for i in test_result:\n",
        "  sum = sum + int(i)\n",
        "\n",
        "sum = sum / len(test_result)\n",
        "\n",
        "print(int(sum))"
      ],
      "execution_count": null,
      "outputs": [
        {
          "output_type": "stream",
          "text": [
            "79\n"
          ],
          "name": "stdout"
        }
      ]
    },
    {
      "cell_type": "markdown",
      "metadata": {
        "id": "-3KHtOOoXJBV"
      },
      "source": [
        "## Q6.\n",
        "> 리스트 중에서 홀수에만 2를 곱하여 저장하는 다음 코드가 있다.\n",
        "```\n",
        "numbers = [1, 2, 3, 4, 5, 6, 7, 8, 9]\n",
        "result = []\n",
        "for n in numbers:\n",
        "    if n % 2 == 1:\n",
        "        result.append(n*2)\n",
        "```\n",
        "\n",
        "- 위 코드를 리스트 내포(list comprehension)를 사용하여 표현해 보자."
      ]
    },
    {
      "cell_type": "code",
      "metadata": {
        "id": "AjYR0lUaXJBa",
        "colab": {
          "base_uri": "https://localhost:8080/"
        },
        "outputId": "af20f6cf-3e96-404e-9c77-dc92840b47ce"
      },
      "source": [
        "# [Q6] Code\n",
        "\n",
        "numbers = [1, 2, 3, 4, 5, 6, 7, 8, 9]\n",
        "result = [n * 2 for n in numbers if n % 2 == 1]\n",
        "print(result)"
      ],
      "execution_count": 3,
      "outputs": [
        {
          "output_type": "stream",
          "text": [
            "[2, 6, 10, 14, 18]\n"
          ],
          "name": "stdout"
        }
      ]
    },
    {
      "cell_type": "markdown",
      "metadata": {
        "id": "YrS3b88QbmKo"
      },
      "source": [
        "## Q7.\n",
        "> ## [Challenge] 응용 코드 : 평균 성적을 구하시오.\n",
        "```\n",
        "subjects = ['파이썬', '영어', '수학', '물리']\n",
        "scores = [91, 67, 88, 75]\n",
        "```\n",
        "\n",
        "- 평균 성적을 세가지 이상의 방법으로 구하시오."
      ]
    },
    {
      "cell_type": "code",
      "metadata": {
        "id": "POKZZo1KcW0Q",
        "colab": {
          "base_uri": "https://localhost:8080/"
        },
        "outputId": "2e9113ae-76a3-4745-c70d-997be593f549"
      },
      "source": [
        "# [Q7] Code-1\n",
        "average = 0\n",
        "\n",
        "for i, x in zip(subjects, scores):\n",
        "  average += x\n",
        "  print(i, x)\n",
        "  \n",
        "average = average / len(scores)\n",
        "print(\"\\n평균 : \" + str(average))"
      ],
      "execution_count": 69,
      "outputs": [
        {
          "output_type": "stream",
          "text": [
            "파이썬 91\n",
            "영어 67\n",
            "수학 88\n",
            "물리 75\n",
            "\n",
            "평균 : 80.25\n"
          ],
          "name": "stdout"
        }
      ]
    },
    {
      "cell_type": "code",
      "metadata": {
        "id": "1Yl74HZQcWkw",
        "colab": {
          "base_uri": "https://localhost:8080/"
        },
        "outputId": "ef80358c-d699-4037-c126-ba0d58d03745"
      },
      "source": [
        "# [Q7] Code-2\n",
        "\n",
        "print(\"\\n평균 : \" + str(sum(scores, 0.0) / len(scores)))"
      ],
      "execution_count": 38,
      "outputs": [
        {
          "output_type": "stream",
          "text": [
            "\n",
            "평균 : 80.25\n"
          ],
          "name": "stdout"
        }
      ]
    },
    {
      "cell_type": "code",
      "metadata": {
        "colab": {
          "base_uri": "https://localhost:8080/"
        },
        "id": "I4K-Zhn4tz3V",
        "outputId": "0e8ed64b-1569-4943-e6db-188594a2c8c8"
      },
      "source": [
        "# [Q7] Code-3\n",
        "average = 0\n",
        "\n",
        "for i in scores:\n",
        "  average = average + i / len(scores)\n",
        "  \n",
        "print(\"\\n평균 : \" + str(average))"
      ],
      "execution_count": 71,
      "outputs": [
        {
          "output_type": "stream",
          "text": [
            "\n",
            "평균 : 80.25\n"
          ],
          "name": "stdout"
        }
      ]
    },
    {
      "cell_type": "code",
      "metadata": {
        "id": "Ll_2InMWbmKq",
        "colab": {
          "base_uri": "https://localhost:8080/"
        },
        "outputId": "6c0ad2b9-f878-4ad9-c217-73b5efe9fc8b"
      },
      "source": [
        "# [Q7] Code-4\n",
        "\n",
        "# 입력한 과목만의 평균을 구하는 코드\n",
        "# 입력값은 띄워서 입력, 순서 상관 없이\n",
        "\n",
        "inputs = \"파이썬, 영어, 수학, 물리\"\n",
        "# 직접 입력받으려면 아래의 코드를 활성화\n",
        "#inputs = str(input(\"과목 사이를 띄워서 입력해주세요 : \"))\n",
        "\n",
        "\n",
        "############################ Colab 입력 양식 ############################\n",
        "#@title 기본 제목 텍스트\n",
        "inputs = \"\\uD30C\\uC774\\uC36C, \\uC601\\uC5B4, \\uC218\\uD559 ,\\uBB3C\\uB9AC\" #@param {type:\"string\"}\n",
        "############################ Colab 입력 양식 ############################\n",
        "\n",
        "\n",
        "\n",
        "# 입력받았는지 여부\n",
        "isThere = []\n",
        "# 평균\n",
        "average = 0\n",
        "\n",
        "# 과목과 점수를 연동\n",
        "subjectss = dict(zip(subjects, scores))\n",
        "\n",
        "# 혹시 쉼표를 입력할 경우, 쉼표 제거\n",
        "realInput = \"\"\n",
        "for i in inputs:\n",
        "  if i != \",\":\n",
        "    realInput = realInput + i\n",
        "\n",
        "#입력받은 값을 리스트로 변환\n",
        "act = 0\n",
        "name = \"\"\n",
        "for i in realInput:\n",
        "  if i == \" \":\n",
        "    isThere.append(name)\n",
        "    name = \"\"\n",
        "  elif act == len(realInput) - 1:\n",
        "    name = name + i\n",
        "    isThere.append(name)\n",
        "  else:\n",
        "    name = name + i\n",
        "  act += 1\n",
        "\n",
        "inputCount = 0\n",
        "for i in isThere:\n",
        "  if i in subjectss.keys():\n",
        "    average += subjectss[i]\n",
        "    inputCount += 1\n",
        "\n",
        "average = average / inputCount\n",
        "print(\"\\n평균 : \" + str(average))"
      ],
      "execution_count": 72,
      "outputs": [
        {
          "output_type": "stream",
          "text": [
            "\n",
            "평균 : 80.25\n"
          ],
          "name": "stdout"
        }
      ]
    },
    {
      "cell_type": "markdown",
      "metadata": {
        "id": "2ljBDShkbqZO"
      },
      "source": [
        "## 코딩 연습 결과를 github에 올리기\n",
        "> 완성된 ipython 노트북 파일을 각자의 github에 올리시오.\n",
        "\n",
        "- github 계정 만들기 (계정이 없는 학생)\n",
        "    1. github에 sign up (Google gmail 계정을 이용해서 만드시오.)\n",
        "- github에 노트 올리기\n",
        "    2. github에 각자의 id로 repo를 만드시오. (한번 만들면 계속 재사용)\n",
        "    3. **github repo의 ch3 폴더에 연습문제 풀이 결과 노트를 올리시오.**\n",
        "        - **제출노트: ch3-exercises-id.ipynb**\n"
      ]
    },
    {
      "cell_type": "code",
      "metadata": {
        "id": "OnCR-YNCc8B6"
      },
      "source": [
        ""
      ],
      "execution_count": null,
      "outputs": []
    }
  ]
}